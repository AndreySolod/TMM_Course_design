{
 "cells": [
  {
   "cell_type": "code",
   "execution_count": 1,
   "metadata": {},
   "outputs": [],
   "source": [
    "from math import pi, sin"
   ]
  },
  {
   "cell_type": "code",
   "execution_count": 2,
   "metadata": {},
   "outputs": [
    {
     "name": "stdout",
     "output_type": "stream",
     "text": [
      "(18, 54, 40, 112)\n"
     ]
    }
   ],
   "source": [
    "u = 9.4\n",
    "k = 3\n",
    "alpha = []\n",
    "for z1 in range(17, 200, 1):\n",
    "    if not (-0.0001 < round(z1 * u / k * 10) - z1 * u / k * 10 < 0.0001):\n",
    "        continue\n",
    "    for z2 in range(17, 200, 1):\n",
    "        for z3 in range(17, 200, 1):\n",
    "            z4 = z1 + z2 + z3\n",
    "            k1 = 1 + (z2 * z4) / (z1 * z3)\n",
    "            t1, t2 = (z1 + z2 == z4 - z3), (u - 0.01 < k1 < u + 0.01)\n",
    "            t3 = (sin(pi / k) > (max(z2, z3) + 2) / (z1 + z2))\n",
    "            if t1 and t2 and t3:\n",
    "                if (k1 == u):\n",
    "                    alpha.append((z1, z2, z3, z4))\n",
    "\n",
    "print(min(alpha, key=lambda x:max(x)))"
   ]
  }
 ],
 "metadata": {
  "kernelspec": {
   "display_name": "Python 3",
   "language": "python",
   "name": "python3"
  },
  "language_info": {
   "codemirror_mode": {
    "name": "ipython",
    "version": 3
   },
   "file_extension": ".py",
   "mimetype": "text/x-python",
   "name": "python",
   "nbconvert_exporter": "python",
   "pygments_lexer": "ipython3",
   "version": "3.6.5"
  }
 },
 "nbformat": 4,
 "nbformat_minor": 2
}
