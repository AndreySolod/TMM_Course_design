{
 "cells": [
  {
   "cell_type": "code",
   "execution_count": 130,
   "metadata": {},
   "outputs": [],
   "source": [
    "from sympy import *\n",
    "from sympy.vector import *\n",
    "init_printing()\n",
    "import matplotlib.pyplot as plt\n",
    "import pandas"
   ]
  },
  {
   "cell_type": "code",
   "execution_count": 2,
   "metadata": {},
   "outputs": [],
   "source": [
    "v_mid = 0.655\n",
    "n_1 = 120\n",
    "frac_l_bc_l_ab = 4.36\n",
    "frac_l_bs2_l_bc = 0.275\n",
    "d_4 = 0.99\n",
    "p_max = 25.0\n",
    "p_min = 0.5\n",
    "g_2 = 6.0\n",
    "g_3 = 18.0\n",
    "l_bs3 = 0.16\n",
    "j_s2 = 0.014\n",
    "delta = Rational(1, 22)\n",
    "j_o1_sht = 0.0032\n",
    "gd_sqr = 0.042\n",
    "gd_sqr_1 = 0.006\n",
    "j_red_pr = 0.020\n",
    "phi_1 = 210\n",
    "z_15 = 10\n",
    "z_16 = 19\n",
    "m = 4.0\n",
    "beta = 25\n",
    "k = 3\n",
    "i_8_12 = 9.4\n",
    "h = 0.016\n",
    "alpha_dop = 24\n",
    "delta_p = 330\n",
    "frac_p_r_0 = 0.21"
   ]
  },
  {
   "cell_type": "code",
   "execution_count": 3,
   "metadata": {},
   "outputs": [],
   "source": [
    "l_ab  = v_mid / (4 * n_1 / 60)\n",
    "l_bc = frac_l_bc_l_ab * l_ab\n"
   ]
  },
  {
   "cell_type": "code",
   "execution_count": 4,
   "metadata": {},
   "outputs": [
    {
     "data": {
      "image/png": "[encoded data removed]",
      "text/latex": [
       "$$0.081875$$"
      ],
      "text/plain": [
       "0.081875"
      ]
     },
     "execution_count": 4,
     "metadata": {},
     "output_type": "execute_result"
    }
   ],
   "source": [
    "l_ab"
   ]
  },
  {
   "cell_type": "code",
   "execution_count": 5,
   "metadata": {},
   "outputs": [
    {
     "data": {
      "image/png": "[encoded data removed]",
      "text/latex": [
       "$$0.35697500000000004$$"
      ],
      "text/plain": [
       "0.35697500000000004"
      ]
     },
     "execution_count": 5,
     "metadata": {},
     "output_type": "execute_result"
    }
   ],
   "source": [
    "l_bc"
   ]
  },
  {
   "cell_type": "code",
   "execution_count": 6,
   "metadata": {},
   "outputs": [],
   "source": [
    "phi = symbols('varphi', rational=True)\n",
    "sys = CoordSys3D('oxyz')\n",
    "point_a =  sys.origin\n",
    "point_b = point_a.locate_new('b', -l_ab * cos(phi) * sys.i + l_ab * sin(phi) * sys.j)\n",
    "x_c = symbols('x_c')\n",
    "point_c = point_a.locate_new('c_1', x_c * sys.i)\n",
    "s_1 = solve([(point_c.position_wrt(point_b)).magnitude() - l_bc],[x_c])\n",
    "point_c = point_a.locate_new('c', s_1[0][0] * sys.i)"
   ]
  },
  {
   "cell_type": "code",
   "execution_count": 7,
   "metadata": {},
   "outputs": [
    {
     "data": {
      "image/png": "[encoded data removed]",
      "text/latex": [
       "$$\\left [ \\left ( - 0.003275 \\sqrt{- 625.0 \\sin^{2}{\\left (\\varphi \\right )} + 11881.0} - 0.081875 \\cos{\\left (\\varphi \\right )}\\right ), \\quad \\left ( 0.003275 \\sqrt{- 625.0 \\sin^{2}{\\left (\\varphi \\right )} + 11881.0} - 0.081875 \\cos{\\left (\\varphi \\right )}\\right )\\right ]$$"
      ],
      "text/plain": [
       "⎡⎛              ________________________________                        ⎞  ⎛  \n",
       "⎢⎜             ╱            2                                           ⎟  ⎜  \n",
       "⎣⎝- 0.003275⋅╲╱  - 625.0⋅sin (varphi) + 11881.0  - 0.081875⋅cos(varphi),⎠, ⎝0.\n",
       "\n",
       "          ________________________________                        ⎞⎤\n",
       "         ╱            2                                           ⎟⎥\n",
       "003275⋅╲╱  - 625.0⋅sin (varphi) + 11881.0  - 0.081875⋅cos(varphi),⎠⎦"
      ]
     },
     "execution_count": 7,
     "metadata": {},
     "output_type": "execute_result"
    }
   ],
   "source": [
    "s_1"
   ]
  },
  {
   "cell_type": "code",
   "execution_count": 233,
   "metadata": {},
   "outputs": [
    {
     "data": {
      "image/png": "[encoded data removed]",
      "text/latex": [
       "$$\\left [ \\left ( \\frac{6.25 \\cdot 10^{-7} \\left(1600000.0 pbx \\sqrt{pbx^{2} - 2.0 pbx pcx + pby^{2} - 2.0 pby pcy + pcx^{2} + pcy^{2}} - 157069.0 pbx + 157069.0 pcx\\right)}{\\sqrt{pbx^{2} - 2.0 pbx pcx + pby^{2} - 2.0 pby pcy + pcx^{2} + pcy^{2}}}, \\quad pby - \\frac{0.098168125 \\left(pby - pcy\\right)}{\\sqrt{pbx^{2} - 2.0 pbx pcx + pby^{2} - 2.0 pby pcy + pcx^{2} + pcy^{2}}}\\right ), \\quad \\left ( \\frac{6.25 \\cdot 10^{-7} \\left(1600000.0 pbx \\sqrt{pbx^{2} - 2.0 pbx pcx + pby^{2} - 2.0 pby pcy + pcx^{2} + pcy^{2}} + 157069.0 pbx - 157069.0 pcx\\right)}{\\sqrt{pbx^{2} - 2.0 pbx pcx + pby^{2} - 2.0 pby pcy + pcx^{2} + pcy^{2}}}, \\quad pby + \\frac{0.098168125 \\left(pby - pcy\\right)}{\\sqrt{pbx^{2} - 2.0 pbx pcx + pby^{2} - 2.0 pby pcy + pcx^{2} + pcy^{2}}}\\right )\\right ]$$"
      ],
      "text/plain": [
       "⎡⎛        ⎛                 __________________________________________________\n",
       "⎢⎜        ⎜                ╱    2                    2                    2   \n",
       "⎢⎜6.25e-7⋅⎝1600000.0⋅pbx⋅╲╱  pbx  - 2.0⋅pbx⋅pcx + pby  - 2.0⋅pby⋅pcy + pcx  + \n",
       "⎢⎜────────────────────────────────────────────────────────────────────────────\n",
       "⎢⎜                              ______________________________________________\n",
       "⎢⎜                             ╱    2                    2                    \n",
       "⎣⎝                           ╲╱  pbx  - 2.0⋅pbx⋅pcx + pby  - 2.0⋅pby⋅pcy + pcx\n",
       "\n",
       "_____                              ⎞                                          \n",
       "   2                               ⎟                                          \n",
       "pcy   - 157069.0⋅pbx + 157069.0⋅pcx⎠                         0.098168125⋅(pby \n",
       "────────────────────────────────────, pby - ──────────────────────────────────\n",
       "_________                                      _______________________________\n",
       "2      2                                      ╱    2                    2     \n",
       "  + pcy                                     ╲╱  pbx  - 2.0⋅pbx⋅pcx + pby  - 2.\n",
       "\n",
       "                        ⎞  ⎛        ⎛                 ________________________\n",
       "                        ⎟  ⎜        ⎜                ╱    2                   \n",
       "- pcy)                  ⎟  ⎜6.25e-7⋅⎝1600000.0⋅pbx⋅╲╱  pbx  - 2.0⋅pbx⋅pcx + pb\n",
       "────────────────────────⎟, ⎜──────────────────────────────────────────────────\n",
       "________________________⎟  ⎜                              ____________________\n",
       "               2      2 ⎟  ⎜                             ╱    2               \n",
       "0⋅pby⋅pcy + pcx  + pcy  ⎠  ⎝                           ╲╱  pbx  - 2.0⋅pbx⋅pcx \n",
       "\n",
       "_______________________________                              ⎞                \n",
       " 2                    2      2                               ⎟                \n",
       "y  - 2.0⋅pby⋅pcy + pcx  + pcy   + 157069.0⋅pbx - 157069.0⋅pcx⎠                \n",
       "──────────────────────────────────────────────────────────────, pby + ────────\n",
       "___________________________________                                      _____\n",
       "     2                    2      2                                      ╱    2\n",
       "+ pby  - 2.0⋅pby⋅pcy + pcx  + pcy                                     ╲╱  pbx \n",
       "\n",
       "                                                  ⎞⎤\n",
       "                                                  ⎟⎥\n",
       "         0.098168125⋅(pby - pcy)                  ⎟⎥\n",
       "──────────────────────────────────────────────────⎟⎥\n",
       "__________________________________________________⎟⎥\n",
       "                    2                    2      2 ⎟⎥\n",
       " - 2.0⋅pbx⋅pcx + pby  - 2.0⋅pby⋅pcy + pcx  + pcy  ⎠⎦"
      ]
     },
     "execution_count": 233,
     "metadata": {},
     "output_type": "execute_result"
    }
   ],
   "source": [
    "l_bs_2 = frac_l_bs2_l_bc * l_bc\n",
    "x_s2, y_s2 = symbols('x_s2, y_s2')\n",
    "pbx, pby, pcx, pcy = symbols('pbx, pby, pcx, pcy')\n",
    "pbb = point_a.locate_new('pbb', pbx * sys.i + pby * sys.j)\n",
    "point_s2 = point_a.locate_new('s_2_1', x_s2 * sys.i + y_s2 * sys.j)\n",
    "s1 = solve([(point_s2.position_wrt(pbb)).magnitude() - l_bs_2, \n",
    "           (pbx - x_s2) / (pbx - pcx) - (pby - y_s2) / (pby - pcy)],[x_s2, y_s2])\n",
    "s1"
   ]
  },
  {
   "cell_type": "code",
   "execution_count": 9,
   "metadata": {},
   "outputs": [
    {
     "data": {
      "image/png": "[encoded data removed]",
      "text/latex": [
       "$$0.09816812500000002$$"
      ],
      "text/plain": [
       "0.09816812500000002"
      ]
     },
     "execution_count": 9,
     "metadata": {},
     "output_type": "execute_result"
    }
   ],
   "source": [
    "l_bs_2"
   ]
  },
  {
   "cell_type": "code",
   "execution_count": 235,
   "metadata": {},
   "outputs": [],
   "source": [
    "point_s2 = point_a.locate_new('s_2', s1[0][0].subs({pbx: point_b.express_coordinates(sys)[0], \n",
    "                                                   pby: point_b.express_coordinates(sys)[1],\n",
    "                                                   pcx: point_c.express_coordinates(sys)[0],\n",
    "                                                   pcy: point_c.express_coordinates(sys)[1]}) * sys.i + s1[0][1].subs({pbx: point_b.express_coordinates(sys)[0], \n",
    "                                                   pby: point_b.express_coordinates(sys)[1],\n",
    "                                                   pcx: point_c.express_coordinates(sys)[0],\n",
    "                                                   pcy: point_c.express_coordinates(sys)[1]}) * sys.j)"
   ]
  },
  {
   "cell_type": "code",
   "execution_count": 11,
   "metadata": {},
   "outputs": [],
   "source": [
    "point_s3 = point_c.locate_new('s_3', -l_bs3 * sys.i)"
   ]
  },
  {
   "cell_type": "code",
   "execution_count": 236,
   "metadata": {},
   "outputs": [],
   "source": [
    "vec_ab = point_b.position_wrt(point_a)\n",
    "vec_ac = point_c.position_wrt(point_a)\n",
    "vec_as2 = point_s2.position_wrt(point_a)\n",
    "vec_as3 = point_s3.position_wrt(point_a)\n",
    "phi_2 = acos(l_ab * sin(phi) / l_bc)"
   ]
  },
  {
   "cell_type": "code",
   "execution_count": 237,
   "metadata": {},
   "outputs": [],
   "source": [
    "omega_mid_1 = 2 * pi * n_1 / 60\n",
    "omega_q2 = diff(phi_2, phi)\n",
    "v_qb = simplify(diff(vec_ab, phi).magnitude())\n",
    "v_qc = diff(vec_ac, phi).to_matrix(sys)[0]\n",
    "v_qs2 = diff(vec_as2, phi)\n",
    "v_qs3 = diff(vec_as3, phi)"
   ]
  },
  {
   "cell_type": "code",
   "execution_count": 14,
   "metadata": {},
   "outputs": [
    {
     "data": {
      "image/png": "[encoded data removed]",
      "text/latex": [
       "$$12.5663706143592$$"
      ],
      "text/plain": [
       "12.5663706143592"
      ]
     },
     "execution_count": 14,
     "metadata": {},
     "output_type": "execute_result"
    }
   ],
   "source": [
    "omega_mid_1.n()"
   ]
  },
  {
   "cell_type": "code",
   "execution_count": 15,
   "metadata": {},
   "outputs": [
    {
     "data": {
      "image/png": "[encoded data removed]",
      "text/latex": [
       "$$\\left ( - 0.003275 \\sqrt{- 625.0 \\sin^{2}{\\left (\\varphi \\right )} + 11881.0} - 0.081875 \\cos{\\left (\\varphi \\right )} - 0.16, \\quad 0, \\quad 0\\right )$$"
      ],
      "text/plain": [
       "⎛              ________________________________                               \n",
       "⎜             ╱            2                                                  \n",
       "⎝- 0.003275⋅╲╱  - 625.0⋅sin (varphi) + 11881.0  - 0.081875⋅cos(varphi) - 0.16,\n",
       "\n",
       "     ⎞\n",
       "     ⎟\n",
       " 0, 0⎠"
      ]
     },
     "execution_count": 15,
     "metadata": {},
     "output_type": "execute_result"
    }
   ],
   "source": [
    "point_s3.express_coordinates(sys)"
   ]
  },
  {
   "cell_type": "code",
   "execution_count": 16,
   "metadata": {},
   "outputs": [
    {
     "data": {
      "image/png": "[encoded data removed]",
      "text/latex": [
       "$$0.09816812500000002$$"
      ],
      "text/plain": [
       "0.09816812500000002"
      ]
     },
     "execution_count": 16,
     "metadata": {},
     "output_type": "execute_result"
    }
   ],
   "source": [
    "l_bs_2"
   ]
  },
  {
   "cell_type": "code",
   "execution_count": 17,
   "metadata": {},
   "outputs": [],
   "source": [
    "f_min = (0.049 * 10 ** 6 * pi * d_4 ** 2 / 4).n()"
   ]
  },
  {
   "cell_type": "code",
   "execution_count": 19,
   "metadata": {},
   "outputs": [],
   "source": [
    "f_max = (2.451 * 10 ** 6 * pi * d_4 ** 2 / 4).n()"
   ]
  },
  {
   "cell_type": "code",
   "execution_count": 20,
   "metadata": {},
   "outputs": [],
   "source": [
    "p1 = plot(v_qc, omega_q2, (phi, 0, 2 * pi), show=False, color='black')\n",
    "p1.title = '$v_{qc} u_{21} \\\\mu_{v_q} = 191 мм/м \\\\mu_{u} = 191 мм/рад$'\n",
    "p1.xlabel = '$\\\\varphi \\\\mu_{\\\\varphi} = 19.8 мм/рад$'\n",
    "p1.ylabel = '$x = v_{qc}(\\\\varphi)$'"
   ]
  },
  {
   "cell_type": "code",
   "execution_count": 21,
   "metadata": {},
   "outputs": [
    {
     "data": {
      "text/plain": [
       "<Figure size 640x480 with 1 Axes>"
      ]
     },
     "metadata": {},
     "output_type": "display_data"
    }
   ],
   "source": [
    "p1.show()"
   ]
  },
  {
   "cell_type": "code",
   "execution_count": 242,
   "metadata": {},
   "outputs": [],
   "source": [
    "v_qs2x = v_qs2.to_matrix(sys)[0]\n",
    "v_qs2y = v_qs2.to_matrix(sys)[1]\n",
    "v_qs2_s = (v_qs2x ** 2 + v_qs2y ** 2) ** 0.5\n",
    "u_21 = omega_q2"
   ]
  },
  {
   "cell_type": "code",
   "execution_count": 243,
   "metadata": {},
   "outputs": [
    {
     "name": "stdout",
     "output_type": "stream",
     "text": [
      "\\begin{tabular}{lrlllll}\n",
      "\\toprule\n",
      "{} &    0 &        1 &         2 &       3 &        4 &       5 \\\\\n",
      "\\midrule\n",
      "0  &    0 &        0 &    0.0594 &  0.0594 &        0 &  -0.229 \\\\\n",
      "1  &   30 &   0.0432 &    0.0514 &  0.0671 &   0.0491 &  -0.200 \\\\\n",
      "2  &   60 &   0.0732 &    0.0297 &  0.0790 &   0.0792 &  -0.117 \\\\\n",
      "3  &   90 &   0.0819 &  6.13e-19 &  0.0819 &   0.0819 &       0 \\\\\n",
      "4  &  120 &   0.0686 &   -0.0297 &  0.0748 &   0.0626 &   0.117 \\\\\n",
      "5  &  150 &   0.0387 &   -0.0514 &  0.0643 &   0.0328 &   0.200 \\\\\n",
      "6  &  180 &        0 &   -0.0594 &  0.0594 &        0 &   0.229 \\\\\n",
      "7  &  210 &  -0.0387 &   -0.0514 &  0.0643 &  -0.0328 &   0.200 \\\\\n",
      "8  &  240 &  -0.0686 &   -0.0297 &  0.0748 &  -0.0626 &   0.117 \\\\\n",
      "9  &  270 &  -0.0819 &  6.13e-19 &  0.0819 &  -0.0819 &       0 \\\\\n",
      "10 &  300 &  -0.0732 &    0.0297 &  0.0790 &  -0.0792 &  -0.117 \\\\\n",
      "11 &  330 &  -0.0432 &    0.0514 &  0.0671 &  -0.0491 &  -0.200 \\\\\n",
      "12 &  360 &        0 &    0.0594 &  0.0594 &        0 &  -0.229 \\\\\n",
      "\\bottomrule\n",
      "\\end{tabular}\n",
      "\n"
     ]
    }
   ],
   "source": [
    "table = []\n",
    "for i in range(0,390,30):\n",
    "    table.append([i, v_qs2x.subs(phi, i / 360 * 2 * pi).n(3), v_qs2y.subs(phi, i / 360 * 2 * pi).n(3), v_qs2_s.subs(phi, i / 360 * 2 * pi).n(3), v_qc.subs(phi, i / 360 * 2 * pi).n(3), u_21.subs(phi, i / 360 * 2 * pi).n(3)])\n",
    "df = pandas.DataFrame(table)\n",
    "print(df.to_latex())"
   ]
  },
  {
   "cell_type": "code",
   "execution_count": 30,
   "metadata": {},
   "outputs": [],
   "source": [
    "m_c_pr = Integral(-1 * f_min * v_qc, (phi, 0, pi)).doit() + Integral(f_max * v_qc, (phi, pi, 2 * pi)).doit()"
   ]
  },
  {
   "cell_type": "code",
   "execution_count": 60,
   "metadata": {},
   "outputs": [
    {
     "data": {
      "image/png": "[encoded data removed]",
      "text/latex": [
       "$$-315124.077915328$$"
      ],
      "text/plain": [
       "-315124.077915328"
      ]
     },
     "execution_count": 60,
     "metadata": {},
     "output_type": "execute_result"
    }
   ],
   "source": [
    "m_c_pr"
   ]
  },
  {
   "cell_type": "code",
   "execution_count": 34,
   "metadata": {},
   "outputs": [],
   "source": [
    "m_d_pr = - m_c_pr / (2 * pi).n(3)"
   ]
  },
  {
   "cell_type": "code",
   "execution_count": 35,
   "metadata": {},
   "outputs": [
    {
     "data": {
      "image/png": "[encoded data removed]",
      "text/latex": [
       "$$50153.4124627441$$"
      ],
      "text/plain": [
       "50153.4124627441"
      ]
     },
     "execution_count": 35,
     "metadata": {},
     "output_type": "execute_result"
    }
   ],
   "source": [
    "m_d_pr"
   ]
  },
  {
   "cell_type": "code",
   "execution_count": 45,
   "metadata": {},
   "outputs": [
    {
     "data": {
      "image/png": "[encoded data removed]",
      "text/plain": [
       "<Figure size 432x288 with 1 Axes>"
      ]
     },
     "metadata": {},
     "output_type": "display_data"
    }
   ],
   "source": [
    "p2 = plot((f_min * v_qc * -1, (phi, 0, pi)), (f_max * v_qc, (phi, pi, 2 * pi)), (m_d_pr, (phi, 0, 2 * pi)),(f_min * v_qc * -1 + m_d_pr, (phi, 0, pi)), (f_max * v_qc + m_d_pr, (phi, pi, 2 * pi)), show=False)\n",
    "p2.title = '$ a$'\n",
    "p2.xlabel = '$a $'\n",
    "p2.ylabel = '$ a$'\n",
    "#p2.save('moments')"
   ]
  },
  {
   "cell_type": "code",
   "execution_count": 41,
   "metadata": {
    "scrolled": true
   },
   "outputs": [
    {
     "data": {
      "image/png": "[encoded data removed]",
      "text/latex": [
       "$$0.000346$$"
      ],
      "text/plain": [
       "0.000346"
      ]
     },
     "execution_count": 41,
     "metadata": {},
     "output_type": "execute_result"
    }
   ],
   "source": [
    "17.3 / 50000"
   ]
  },
  {
   "cell_type": "code",
   "execution_count": 53,
   "metadata": {},
   "outputs": [
    {
     "data": {
      "image/png": "[encoded data removed]",
      "text/latex": [
       "$$0.043214$$"
      ],
      "text/plain": [
       "0.043214"
      ]
     },
     "execution_count": 53,
     "metadata": {},
     "output_type": "execute_result"
    }
   ],
   "source": [
    "a1 = (pi * 0.99 ** 2 / 4).n(4)\n",
    "(33.265 / a1 * 10 ** -3).n(5)"
   ]
  },
  {
   "cell_type": "code",
   "execution_count": 58,
   "metadata": {},
   "outputs": [],
   "source": [
    "m_g2_pr = simplify(v_qs2.magnitude() * g_2)"
   ]
  },
  {
   "cell_type": "code",
   "execution_count": 200,
   "metadata": {},
   "outputs": [
    {
     "data": {
      "image/png": "[encoded data removed]",
      "text/latex": [
       "$$\\left \\{ c_{1} : -16552.8375647363, \\quad c_{2} : 512655.639622559\\right \\}$$"
      ],
      "text/plain": [
       "{c₁: -16552.8375647363, c₂: 512655.639622559}"
      ]
     },
     "execution_count": 200,
     "metadata": {},
     "output_type": "execute_result"
    }
   ],
   "source": [
    "c1, c2 = symbols('c_1, c_2')\n",
    "t1 = solve([-1 * a1.subs(phi,0) * f_min + c1, a1.subs(phi, pi) * f_max - a1.subs(phi, pi) * f_min - 4000 + c2], [c1, c2])\n",
    "t1"
   ]
  },
  {
   "cell_type": "code",
   "execution_count": 201,
   "metadata": {},
   "outputs": [
    {
     "data": {
      "image/png": "[encoded data removed]",
      "text/plain": [
       "<Figure size 737.28x552.96 with 1 Axes>"
      ]
     },
     "metadata": {},
     "output_type": "display_data"
    }
   ],
   "source": [
    "a1 = integrate(v_qc, phi)\n",
    "varx = [i / 360 * 2 * pi.n(6) for i in range(0, 360, 5)]\n",
    "vary1 = [-1 * a1.subs(phi, i) * f_min / 1000 + t1[c1] / 1000 for i in varx[0: len(varx) // 2 + 1:1]]\n",
    "vary2 = [a1.subs(phi, i) * f_max / 1000 + t1[c2] / 1000 for i in varx[len(varx) // 2:]]\n",
    "a2 = (Integral(m_d_pr / 1000, phi)).doit()\n",
    "vary3 = [a2.subs(phi, i) for i in varx]\n",
    "vary4 = [vary1[i] + vary3[i] for i in range(len(vary1))]\n",
    "vary5 = [vary2[i] + vary3[i + len(vary4) - 1] for i in range(len(vary2))]\n",
    "\n",
    "fig = plt.figure(figsize = [10.24, 7.68])\n",
    "plt.plot(varx[0:len(varx) // 2 + 1:1], vary1, linewidth = 2, color = 'black')\n",
    "plt.grid(True)\n",
    "plt.plot(varx[len(varx) // 2:], vary2, linewidth = 2, color = 'black')\n",
    "plt.plot(varx, vary3, linewidth = 2, color = 'black')\n",
    "plt.plot(varx[0:len(varx) // 2 + 1:], vary4, linewidth = 2, color = 'black')\n",
    "plt.plot(varx[len(varx) // 2:], vary5, linewidth = 2, color = 'black')\n",
    "#plt.plot(varx, vary, linewidth = 2, color = 'green')\n",
    "\n",
    "plt.show()\n"
   ]
  },
  {
   "cell_type": "code",
   "execution_count": 202,
   "metadata": {},
   "outputs": [],
   "source": [
    "#fig.savefig('A(m), A(sum)')"
   ]
  },
  {
   "cell_type": "code",
   "execution_count": 253,
   "metadata": {},
   "outputs": [],
   "source": [
    "j_pr2 = j_s2 * omega_q2 ** 2 + g_2 * v_qs2_s ** 2"
   ]
  },
  {
   "cell_type": "code",
   "execution_count": 254,
   "metadata": {},
   "outputs": [],
   "source": [
    "j_pr3 = g_3 * abs(v_qc) ** 2"
   ]
  },
  {
   "cell_type": "code",
   "execution_count": 255,
   "metadata": {},
   "outputs": [],
   "source": [
    "j_pr2gr = j_pr2 + j_pr3"
   ]
  },
  {
   "cell_type": "code",
   "execution_count": 256,
   "metadata": {},
   "outputs": [
    {
     "data": {
      "image/png": "[encoded data removed]",
      "text/plain": [
       "<Figure size 432x288 with 1 Axes>"
      ]
     },
     "metadata": {},
     "output_type": "display_data"
    }
   ],
   "source": [
    "fig2 = plt.figure()\n",
    "varx = [i / 360 * 2 * pi.n(6) for i in range(0, 360, 5)]\n",
    "vary1 = [j_pr2.subs(phi, i) for i in varx]\n",
    "vary2 = [j_pr3.subs(phi, i) for i in varx]\n",
    "vary3 = [j_pr2gr.subs(phi, i) for i in varx]\n",
    "\n",
    "plt.plot(varx, vary1, linewidth = 2, color = 'black')\n",
    "plt.grid(True)\n",
    "plt.plot(varx, vary2, linewidth = 2, color = 'black')\n",
    "plt.plot(varx, vary3, linewidth = 2, color = 'black')\n",
    "\n",
    "plt.show()"
   ]
  },
  {
   "cell_type": "code",
   "execution_count": 257,
   "metadata": {},
   "outputs": [],
   "source": [
    "#fig2.savefig('j_2_pr')"
   ]
  },
  {
   "cell_type": "code",
   "execution_count": 262,
   "metadata": {},
   "outputs": [
    {
     "name": "stdout",
     "output_type": "stream",
     "text": [
      "\\begin{tabular}{lrll}\n",
      "\\toprule\n",
      "{} &    0 &           1 &           2 \\\\\n",
      "\\midrule\n",
      "0  &    0 &           0 &      50153. \\\\\n",
      "1  &   30 &     -92680. &   1.4283e+5 \\\\\n",
      "2  &   60 &  -1.4943e+5 &   1.9959e+5 \\\\\n",
      "3  &   90 &  -1.5447e+5 &   2.0463e+5 \\\\\n",
      "4  &  120 &  -1.1812e+5 &   1.6828e+5 \\\\\n",
      "5  &  150 &     -61794. &   1.1195e+5 \\\\\n",
      "6  &  180 &           0 &      50153. \\\\\n",
      "7  &  210 &      61794. &     -11640. \\\\\n",
      "8  &  240 &   1.1812e+5 &     -67971. \\\\\n",
      "9  &  270 &   1.5447e+5 &  -1.0432e+5 \\\\\n",
      "10 &  300 &   1.4943e+5 &     -99278. \\\\\n",
      "11 &  330 &      92680. &     -42527. \\\\\n",
      "12 &  360 &           0 &      50153. \\\\\n",
      "\\bottomrule\n",
      "\\end{tabular}\n",
      "\n"
     ]
    }
   ],
   "source": [
    "table = []\n",
    "for i in range(0,390,30):\n",
    "    table.append([i, (f_min * v_qc * -1).subs(phi, i / 360 * 2 * pi).n(5) if i <= pi else (f_max * v_qc * -1).subs(phi, i / 360 * 2 * pi).n(5), (f_min * v_qc * -1 + m_d_pr).subs(phi, i / 360 * 2 * pi).n(5) if i <= pi else (f_max * v_qc + m_d_pr).subs(phi, i / 360 * 2 * pi).n(5)])\n",
    "df = pandas.DataFrame(table)\n",
    "print(df.to_latex())"
   ]
  },
  {
   "cell_type": "code",
   "execution_count": 263,
   "metadata": {},
   "outputs": [
    {
     "name": "stdout",
     "output_type": "stream",
     "text": [
      "\\begin{tabular}{lrlll}\n",
      "\\toprule\n",
      "{} &    0 &         1 &          2 &         3 \\\\\n",
      "\\midrule\n",
      "0  &    0 &  0.021878 &          0 &  0.021878 \\\\\n",
      "1  &   30 &  0.040574 &    0.12650 &   0.16708 \\\\\n",
      "2  &   60 &  0.023149 &  0.0068385 &  0.029987 \\\\\n",
      "3  &   90 &  0.034715 &   0.077249 &   0.11196 \\\\\n",
      "4  &  120 &  0.029512 &   0.057449 &  0.086961 \\\\\n",
      "5  &  150 &  0.033141 &   0.083345 &   0.11649 \\\\\n",
      "6  &  180 &  0.031716 &   0.057328 &  0.089044 \\\\\n",
      "7  &  210 &  0.024938 &   0.016729 &  0.041667 \\\\\n",
      "8  &  240 &  0.039808 &    0.12500 &   0.16481 \\\\\n",
      "9  &  270 &  0.022607 &  0.0056206 &  0.028228 \\\\\n",
      "10 &  300 &  0.040097 &    0.11935 &   0.15945 \\\\\n",
      "11 &  330 &  0.022114 &  0.0012621 &  0.023376 \\\\\n",
      "12 &  360 &  0.037404 &   0.096645 &   0.13405 \\\\\n",
      "\\bottomrule\n",
      "\\end{tabular}\n",
      "\n"
     ]
    }
   ],
   "source": [
    "table = []\n",
    "for i in range(0,390,30):\n",
    "    table.append([i, j_pr2.subs(phi, i).n(5), j_pr3.subs(phi, i).n(5), j_pr2gr.subs(phi, i).n(5)])\n",
    "df = pandas.DataFrame(table)\n",
    "print(df.to_latex())"
   ]
  },
  {
   "cell_type": "code",
   "execution_count": 315,
   "metadata": {},
   "outputs": [],
   "source": [
    "c1, c2 = symbols('c_1, c_2')\n",
    "t1 = solve([-1 * a1.subs(phi,0) * f_min + c1, a1.subs(phi, pi) * f_max - a1.subs(phi, pi) * f_min - 4000 + c2], [c1, c2])\n",
    "a1 = integrate(v_qc, phi)\n",
    "a2 = (Integral(m_d_pr, phi)).doit()\n",
    "a_phi = (-1 * a1 * f_min + t1[c1] + a2, a1 * f_max + t1[c2] + a2)"
   ]
  },
  {
   "cell_type": "code",
   "execution_count": 316,
   "metadata": {},
   "outputs": [
    {
     "data": {
      "image/png": "[encoded data removed]",
      "text/plain": [
       "<Figure size 432x288 with 1 Axes>"
      ]
     },
     "metadata": {},
     "output_type": "display_data"
    },
    {
     "data": {
      "text/plain": [
       "<sympy.plotting.plot.Plot at 0x1ea8e2d52e8>"
      ]
     },
     "execution_count": 316,
     "metadata": {},
     "output_type": "execute_result"
    }
   ],
   "source": [
    "plot((a_phi[0], (phi, 0, pi)), (a_phi[1], (phi, pi, 2 * pi)))"
   ]
  },
  {
   "cell_type": "code",
   "execution_count": 317,
   "metadata": {},
   "outputs": [],
   "source": [
    "t_2 = j_pr2gr * omega_mid_1 ** 2 / 2"
   ]
  },
  {
   "cell_type": "code",
   "execution_count": 318,
   "metadata": {},
   "outputs": [],
   "source": [
    "arr_phi = [(i / 360 * 2 * pi).n(3) for i in range(0, 360, 5)]\n",
    "delta_t_1 = [(a_phi[0].subs(phi, i) - t_2.subs(phi, i)).n(3) if i < pi else (a_phi[1].subs(phi, i) - t_2.subs(phi, i)).n(3) for i in arr_phi]"
   ]
  },
  {
   "cell_type": "code",
   "execution_count": 319,
   "metadata": {},
   "outputs": [
    {
     "data": {
      "image/png": "[encoded data removed]",
      "text/latex": [
       "$$1.62 \\cdot 10^{5}$$"
      ],
      "text/plain": [
       "1.62e+5"
      ]
     },
     "execution_count": 319,
     "metadata": {},
     "output_type": "execute_result"
    }
   ],
   "source": [
    "t_max = max(delta_t_1)\n",
    "t_max"
   ]
  },
  {
   "cell_type": "code",
   "execution_count": 320,
   "metadata": {},
   "outputs": [
    {
     "data": {
      "image/png": "[encoded data removed]",
      "text/latex": [
       "$$-6.88 \\cdot 10^{3}$$"
      ],
      "text/plain": [
       "-6.88e+3"
      ]
     },
     "execution_count": 320,
     "metadata": {},
     "output_type": "execute_result"
    }
   ],
   "source": [
    "t_min = min(delta_t_1)\n",
    "t_min"
   ]
  },
  {
   "cell_type": "code",
   "execution_count": 321,
   "metadata": {},
   "outputs": [],
   "source": [
    "delta_t = t_max - t_min"
   ]
  },
  {
   "cell_type": "code",
   "execution_count": 322,
   "metadata": {},
   "outputs": [
    {
     "data": {
      "image/png": "[encoded data removed]",
      "text/latex": [
       "$$1.69 \\cdot 10^{5}$$"
      ],
      "text/plain": [
       "1.69e+5"
      ]
     },
     "execution_count": 322,
     "metadata": {},
     "output_type": "execute_result"
    }
   ],
   "source": [
    "delta_t"
   ]
  },
  {
   "cell_type": "code",
   "execution_count": 289,
   "metadata": {},
   "outputs": [
    {
     "data": {
      "image/png": "[encoded data removed]",
      "text/latex": [
       "$$\\frac{1}{22}$$"
      ],
      "text/plain": [
       "1/22"
      ]
     },
     "execution_count": 289,
     "metadata": {},
     "output_type": "execute_result"
    }
   ],
   "source": [
    "delta"
   ]
  },
  {
   "cell_type": "code",
   "execution_count": 294,
   "metadata": {},
   "outputs": [
    {
     "data": {
      "image/png": "[encoded data removed]",
      "text/latex": [
       "$$4.384 \\cdot 10^{4}$$"
      ],
      "text/plain": [
       "4.384e+4"
      ]
     },
     "execution_count": 294,
     "metadata": {},
     "output_type": "execute_result"
    }
   ],
   "source": [
    "j_pr1 = delta_t / (omega_mid_1 ** 2 * delta)\n",
    "j_pr1.n(4)"
   ]
  },
  {
   "cell_type": "code",
   "execution_count": 323,
   "metadata": {},
   "outputs": [
    {
     "ename": "TypeError",
     "evalue": "'bool' object is not callable",
     "output_type": "error",
     "traceback": [
      "\u001b[1;31m---------------------------------------------------------------------------\u001b[0m",
      "\u001b[1;31mTypeError\u001b[0m                                 Traceback (most recent call last)",
      "\u001b[1;32m<ipython-input-323-de5e926f3445>\u001b[0m in \u001b[0;36m<module>\u001b[1;34m()\u001b[0m\n\u001b[0;32m      4\u001b[0m \u001b[1;33m\u001b[0m\u001b[0m\n\u001b[0;32m      5\u001b[0m \u001b[0mplt\u001b[0m\u001b[1;33m.\u001b[0m\u001b[0mplot\u001b[0m\u001b[1;33m(\u001b[0m\u001b[0mvarx\u001b[0m\u001b[1;33m,\u001b[0m \u001b[0mvary1\u001b[0m\u001b[1;33m,\u001b[0m \u001b[0mlinewidth\u001b[0m \u001b[1;33m=\u001b[0m \u001b[1;36m2\u001b[0m\u001b[1;33m,\u001b[0m \u001b[0mcolor\u001b[0m \u001b[1;33m=\u001b[0m \u001b[1;34m'black'\u001b[0m\u001b[1;33m)\u001b[0m\u001b[1;33m\u001b[0m\u001b[0m\n\u001b[1;32m----> 6\u001b[1;33m \u001b[0mplt\u001b[0m\u001b[1;33m.\u001b[0m\u001b[0mgrid\u001b[0m\u001b[1;33m(\u001b[0m\u001b[1;32mTrue\u001b[0m\u001b[1;33m)\u001b[0m\u001b[1;33m\u001b[0m\u001b[0m\n\u001b[0m\u001b[0;32m      7\u001b[0m \u001b[1;33m\u001b[0m\u001b[0m\n\u001b[0;32m      8\u001b[0m \u001b[0mplt\u001b[0m\u001b[1;33m.\u001b[0m\u001b[0mshow\u001b[0m\u001b[1;33m(\u001b[0m\u001b[1;33m)\u001b[0m\u001b[1;33m\u001b[0m\u001b[0m\n",
      "\u001b[1;31mTypeError\u001b[0m: 'bool' object is not callable"
     ]
    },
    {
     "data": {
      "image/png": "[encoded data removed]",
      "text/plain": [
       "<Figure size 432x288 with 1 Axes>"
      ]
     },
     "metadata": {},
     "output_type": "display_data"
    }
   ],
   "source": [
    "fig3 = plt.figure()\n",
    "varx = arr_phi\n",
    "vary1 = [i / (omega_mid_1 * j_pr1.n(4)) for i in delta_t_1]\n",
    "\n",
    "plt.plot(varx, vary1, linewidth = 2, color = 'black')\n",
    "plt.grid(True)\n",
    "\n",
    "plt.show()"
   ]
  },
  {
   "cell_type": "code",
   "execution_count": 301,
   "metadata": {},
   "outputs": [
    {
     "ename": "TypeError",
     "evalue": "'bool' object is not callable",
     "output_type": "error",
     "traceback": [
      "\u001b[1;31m---------------------------------------------------------------------------\u001b[0m",
      "\u001b[1;31mTypeError\u001b[0m                                 Traceback (most recent call last)",
      "\u001b[1;32m<ipython-input-301-0779b6228860>\u001b[0m in \u001b[0;36m<module>\u001b[1;34m()\u001b[0m\n\u001b[0;32m      3\u001b[0m \u001b[0mvarx\u001b[0m\u001b[1;33m=\u001b[0m\u001b[0marr_phi\u001b[0m\u001b[1;33m\u001b[0m\u001b[0m\n\u001b[0;32m      4\u001b[0m \u001b[0mplt\u001b[0m\u001b[1;33m.\u001b[0m\u001b[0mplot\u001b[0m\u001b[1;33m(\u001b[0m\u001b[0mvarx\u001b[0m\u001b[1;33m,\u001b[0m \u001b[0mdelta_t_1\u001b[0m\u001b[1;33m,\u001b[0m \u001b[0mlinewidth\u001b[0m \u001b[1;33m=\u001b[0m \u001b[1;36m2\u001b[0m\u001b[1;33m,\u001b[0m \u001b[0mcolor\u001b[0m \u001b[1;33m=\u001b[0m \u001b[1;34m'black'\u001b[0m\u001b[1;33m)\u001b[0m\u001b[1;33m\u001b[0m\u001b[0m\n\u001b[1;32m----> 5\u001b[1;33m \u001b[0mplt\u001b[0m\u001b[1;33m.\u001b[0m\u001b[0mgrid\u001b[0m\u001b[1;33m(\u001b[0m\u001b[1;32mTrue\u001b[0m\u001b[1;33m)\u001b[0m\u001b[1;33m\u001b[0m\u001b[0m\n\u001b[0m\u001b[0;32m      6\u001b[0m \u001b[0mplt\u001b[0m\u001b[1;33m.\u001b[0m\u001b[0mshow\u001b[0m\u001b[1;33m(\u001b[0m\u001b[1;33m)\u001b[0m\u001b[1;33m\u001b[0m\u001b[0m\n",
      "\u001b[1;31mTypeError\u001b[0m: 'bool' object is not callable"
     ]
    },
    {
     "data": {
      "image/png": "[encoded data removed]",
      "text/plain": [
       "<Figure size 460.8x720 with 1 Axes>"
      ]
     },
     "metadata": {},
     "output_type": "display_data"
    }
   ],
   "source": [
    "import matplotlib.pyplot as plt\n",
    "fig4 = plt.figure(figsize=(6.40, 10.00))\n",
    "varx=arr_phi\n",
    "plt.plot(varx, delta_t_1, linewidth = 2, color = 'black')\n",
    "plt.grid(True)\n",
    "plt.show()"
   ]
  }
 ],
 "metadata": {
  "kernelspec": {
   "display_name": "Python 3",
   "language": "python",
   "name": "python3"
  },
  "language_info": {
   "codemirror_mode": {
    "name": "ipython",
    "version": 3
   },
   "file_extension": ".py",
   "mimetype": "text/x-python",
   "name": "python",
   "nbconvert_exporter": "python",
   "pygments_lexer": "ipython3",
   "version": "3.6.5"
  }
 },
 "nbformat": 4,
 "nbformat_minor": 2
}
