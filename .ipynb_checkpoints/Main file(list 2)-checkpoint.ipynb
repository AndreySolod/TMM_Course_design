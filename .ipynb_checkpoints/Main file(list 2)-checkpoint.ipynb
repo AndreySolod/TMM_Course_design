{
 "cells": [
  {
   "cell_type": "code",
   "execution_count": 1,
   "metadata": {},
   "outputs": [],
   "source": [
    "from sympy import *\n",
    "from sympy.vector import *\n",
    "init_printing()"
   ]
  },
  {
   "cell_type": "code",
   "execution_count": 54,
   "metadata": {},
   "outputs": [],
   "source": [
    "v_mid = 0.655\n",
    "n_1 = 120\n",
    "frac_l_bc_l_ab = 4.36\n",
    "frac_l_bs2_l_bc = 0.275\n",
    "d_4 = 0.99\n",
    "p_max = 25.0\n",
    "p_min = 0.5\n",
    "g_2 = 6.0\n",
    "g_3 = 18.0\n",
    "l_bs3 = 0.16\n",
    "j_s2 = 0.14\n",
    "delta = Rational(1, 22)\n",
    "j_o1_sht = 0.032\n",
    "gd_sqr = 0.042\n",
    "gd_sqr_1 = 0.006\n",
    "j_red_pr = 0.20\n",
    "phi_1 = 210\n",
    "z_15 = 10\n",
    "z_16 = 19\n",
    "m = 4.0\n",
    "beta = 25\n",
    "k = 3\n",
    "i_8_12 = 9.4\n",
    "h = 0.016\n",
    "alpha_dop = 24\n",
    "delta_p = 330\n",
    "frac_p_r_0 = 0.21"
   ]
  },
  {
   "cell_type": "code",
   "execution_count": 154,
   "metadata": {},
   "outputs": [],
   "source": [
    "l_ab  = v_mid / (4 * n_1 / 60)\n",
    "l_bc = frac_l_bc_l_ab * l_ab\n",
    "phi = symbols('varphi', rational=True)\n",
    "sys = CoordSys3D('oxyz')\n",
    "point_a =  sys.origin\n",
    "point_b = point_a.locate_new('b', -l_ab * cos(phi) * sys.i + l_ab * sin(phi) * sys.j)\n",
    "x_c = symbols('x_c')\n",
    "point_c = point_a.locate_new('c_1', x_c * sys.i)\n",
    "s_1 = solve([(point_c.position_wrt(point_b)).magnitude() - l_bc],[x_c])\n",
    "point_c = point_a.locate_new('c', s_1[0][0] * sys.i)\n",
    "l_bs_2 = frac_l_bs2_l_bc * l_bc\n",
    "x_s2, y_s2 = symbols('x_s2, y_s2')\n",
    "pbx, pby, pcx, pcy = symbols('pbx, pby, pcx, pcy')\n",
    "pbb = point_a.locate_new('pbb', pbx * sys.i + pby * sys.j)\n",
    "point_s2 = point_a.locate_new('s_2_1', x_s2 * sys.i + y_s2 * sys.j)\n",
    "s1 = solve([(point_s2.position_wrt(pbb)).magnitude() - l_bs_2, \n",
    "           (pbx - x_s2) / (pbx - pcx) - (pby - y_s2) / (pby - pcy)],[x_s2, y_s2])\n",
    "point_s2 = point_a.locate_new('s_2', s1[0][0].subs({pbx: point_b.express_coordinates(sys)[0], \n",
    "                                                   pby: point_b.express_coordinates(sys)[1],\n",
    "                                                   pcx: point_c.express_coordinates(sys)[0],\n",
    "                                                   pcy: point_c.express_coordinates(sys)[1]}) * sys.i + s1[0][1].subs({pbx: point_b.express_coordinates(sys)[0], \n",
    "                                                   pby: point_b.express_coordinates(sys)[1],\n",
    "                                                   pcx: point_c.express_coordinates(sys)[0],\n",
    "                                                   pcy: point_c.express_coordinates(sys)[1]}) * sys.j)\n",
    "point_s3 = point_c.locate_new('s_3', -l_bs3 * sys.i)\n",
    "vec_ab = point_b.position_wrt(point_a)\n",
    "vec_ac = point_c.position_wrt(point_a)\n",
    "vec_as2 = point_s2.position_wrt(point_a)\n",
    "vec_as3 = point_s3.position_wrt(point_a)\n",
    "phi_2 = acos(l_ab * sin(phi) / l_bc)\n",
    "omega_mid_1 = 2 * pi * n_1 / 60\n",
    "f_min = (0.049 * 10 ** 6 * pi * d_4 ** 2 / 4).n()\n",
    "f_max = (2.451 * 10 ** 6 * pi * d_4 ** 2 / 4).n()"
   ]
  },
  {
   "cell_type": "code",
   "execution_count": 155,
   "metadata": {},
   "outputs": [],
   "source": [
    "omega_q2 = diff(phi_2, phi)\n",
    "v_qb = simplify(diff(vec_ab, phi).magnitude())\n",
    "v_qc = diff(vec_ac, phi).to_matrix(sys)[0]\n",
    "v_qs2 = diff(vec_as2, phi)\n",
    "v_qs3 = diff(vec_as3, phi)\n",
    "m_c_pr = Integral(-1 * f_min * v_qc, (phi, 0, pi)).doit() + Integral(f_max * v_qc, (phi, pi, 2 * pi)).doit()\n",
    "m_d_pr = - m_c_pr / (2 * pi).n(3)\n",
    "m_g2_pr = simplify(v_qs2.magnitude() * g_2)\n",
    "j_pr2 = j_s2 * omega_q2 ** 2 + g_2 * v_qs2.magnitude() ** 2\n",
    "j_pr3 = g_3 * abs(v_qc) ** 2\n",
    "j_pr2gr = j_pr2 + j_pr3\n",
    "a1 = integrate(v_qc, phi)\n",
    "c1, c2 = symbols('c_1, c_2')\n",
    "t1 = solve([-1 * a1.subs(phi,0) * f_min + c1, a1.subs(phi, pi) * f_max - a1.subs(phi, pi) * f_min - 4000 + c2], [c1, c2])\n",
    "a1 = integrate(v_qc, phi)\n",
    "a2 = (Integral(m_d_pr, phi)).doit()\n",
    "a_phi = (-1 * a1 * f_min + t1[c1] + a2, a1 * f_max + t1[c2] + a2)\n",
    "t_2 = j_pr2gr * omega_mid_1 ** 2 / 2\n",
    "arr_phi = [(i / 360 * 2 * pi).n(3) for i in range(0, 360, 5)]\n",
    "delta_t_1 = [(a_phi[0].subs(phi, i) - t_2.subs(phi, i)).n(3) if i < pi else (a_phi[1].subs(phi, i) - t_2.subs(phi, i)).n(3) for i in arr_phi]\n",
    "t_max = max(delta_t_1)\n",
    "t_min = min(delta_t_1)\n",
    "phi_10, phi_20 = arr_phi[delta_t_1.index(t_max)], arr_phi[delta_t_1.index(t_min)]\n",
    "delta_t = t_max - t_min\n",
    "j_pr1 = (delta_t - delta * (t_2.subs(phi, phi_10).n(3) - t_2.subs(phi, phi_20))) / (omega_mid_1 ** 2 * delta)\n"
   ]
  },
  {
   "cell_type": "code",
   "execution_count": 156,
   "metadata": {},
   "outputs": [
    {
     "data": {
      "image/png": "[encoded data removed]",
      "text/latex": [
       "$$12.8$$"
      ],
      "text/plain": [
       "12.8"
      ]
     },
     "execution_count": 156,
     "metadata": {},
     "output_type": "execute_result"
    }
   ],
   "source": [
    "omega = [(i - (t_max + t_min) / 2) / (omega_mid_1 * j_pr1.n(4)) + omega_mid_1 for i in delta_t_1]\n",
    "omega_at_pos = omega[phi_1 // 5]\n",
    "omega_at_pos.n(3)"
   ]
  },
  {
   "cell_type": "code",
   "execution_count": 431,
   "metadata": {},
   "outputs": [
    {
     "data": {
      "image/png": "[encoded data removed]",
      "text/latex": [
       "$$-12195.6944247917$$"
      ],
      "text/plain": [
       "-12195.6944247917"
      ]
     },
     "execution_count": 431,
     "metadata": {},
     "output_type": "execute_result"
    }
   ],
   "source": [
    "m_sum_pr[1].subs(phi, 3.67)"
   ]
  },
  {
   "cell_type": "code",
   "execution_count": 432,
   "metadata": {},
   "outputs": [],
   "source": [
    "m_sum_pr = (v_qc * f_min * -1 + m_d_pr, f_max * v_qc + m_d_pr)\n",
    "epsilon_q2 = diff(phi_2, phi)\n",
    "a_qs2 = diff(v_qs2, phi)\n",
    "\n",
    "epsilon = lambda i: (m_sum_pr[1].subs(phi, i) / (j_pr2 + j_pr1).subs(phi, i)- omega_at_pos ** 2 / (2 * j_pr2.subs(phi, i) + j_pr1) * diff(j_pr2, phi).subs(phi, i)).n(3)"
   ]
  },
  {
   "cell_type": "code",
   "execution_count": 435,
   "metadata": {},
   "outputs": [
    {
     "data": {
      "image/png": "[encoded data removed]",
      "text/latex": [
       "$$-0.495$$"
      ],
      "text/plain": [
       "-0.495"
      ]
     },
     "execution_count": 435,
     "metadata": {},
     "output_type": "execute_result"
    }
   ],
   "source": [
    "epsilon_isk = epsilon((phi_1 / 360 * 2 * pi).n(3))\n",
    "epsilon_isk.n(3)"
   ]
  },
  {
   "cell_type": "markdown",
   "metadata": {},
   "source": [
    "Начало расчёта"
   ]
  },
  {
   "cell_type": "code",
   "execution_count": 462,
   "metadata": {},
   "outputs": [],
   "source": [
    "vec_ab = point_b.position_wrt(point_a).subs(phi, (phi_1 / 360 * 2 * pi).n(3))\n",
    "vec_bc = point_c.position_wrt(point_b).subs(phi, (phi_1 / 360 * 2 * pi).n(3))\n",
    "vec_bs2 = point_s2.position_wrt(point_b).subs(phi, (phi_1 / 360 * 2 * pi).n(3))"
   ]
  },
  {
   "cell_type": "code",
   "execution_count": 463,
   "metadata": {},
   "outputs": [],
   "source": [
    "def solve_vec_equation(eq, var, sys):\n",
    "\tx_eq, y_eq, z_eq = [], [], []\n",
    "\tfor i in eq:\n",
    "\t\tx_eq.append(i.to_matrix(sys)[0])\n",
    "\t\ty_eq.append(i.to_matrix(sys)[1])\n",
    "\t\tif i.to_matrix(sys)[2] != 0: z_eq.append(i.to_matrix(sys)[2])\n",
    "\ts = x_eq + y_eq + z_eq\n",
    "\tprint('%' , s, 'This is S')\n",
    "\treturn solve(s, var)"
   ]
  },
  {
   "cell_type": "code",
   "execution_count": 464,
   "metadata": {},
   "outputs": [
    {
     "name": "stdout",
     "output_type": "stream",
     "text": [
      "% [0.0409275054931641*omega_2 + x_c + 0.525902458280325, 0.354621051291371*omega_2 + 0.911178984493017] This is S\n"
     ]
    },
    {
     "data": {
      "image/png": "[encoded data removed]",
      "text/latex": [
       "$$\\left \\{ \\omega_{2} : -2.56944414657537, \\quad x_{c} : -0.420741518856983\\right \\}$$"
      ],
      "text/plain": [
       "{ω₂: -2.56944414657537, x_c: -0.420741518856983}"
      ]
     },
     "execution_count": 464,
     "metadata": {},
     "output_type": "execute_result"
    }
   ],
   "source": [
    "omega_1, omega_2, epsilon_1, epsilon_2 = symbols('omega_1, omega_2, varepsilon_1, varepsilon_2')\n",
    "vec_omega_1 = -omega_at_pos.n(3) * sys.k\n",
    "vec_omega_2 = omega_2 * sys.k\n",
    "vec_epsilon_1 = epsilon_isk * sys.k\n",
    "vec_epsilon_2 = epsilon_2 * sys.k\n",
    "vec_v_b = vec_omega_1.cross(vec_ab)\n",
    "vec_v_c = x_c * sys.i\n",
    "s1 = solve_vec_equation([vec_v_c - vec_v_b - vec_omega_2.cross(vec_bc)], [x_c, omega_2], sys)\n",
    "s1"
   ]
  },
  {
   "cell_type": "code",
   "execution_count": 474,
   "metadata": {},
   "outputs": [
    {
     "name": "stdout",
     "output_type": "stream",
     "text": [
      "(-11.7285454427722)\\mathbf{\\hat{i}_{oxyz}} + (6.72255353082583)\\mathbf{\\hat{j}_{oxyz}}\n"
     ]
    }
   ],
   "source": [
    "print(latex((a_b)))"
   ]
  },
  {
   "cell_type": "code",
   "execution_count": 466,
   "metadata": {},
   "outputs": [
    {
     "name": "stdout",
     "output_type": "stream",
     "text": [
      "% [0.0409275054931641*varepsilon_2 + x_c + 11.7285454427722, 0.354621051291371*varepsilon_2 - 7.80362536367413] This is S\n"
     ]
    },
    {
     "data": {
      "image/png": "[encoded data removed]",
      "text/latex": [
       "$$\\left \\{ \\varepsilon_{2} : 22.0055333298935, \\quad x_{c} : -12.6291770290114\\right \\}$$"
      ],
      "text/plain": [
       "{varepsilon₂: 22.0055333298935, x_c: -12.6291770290114}"
      ]
     },
     "execution_count": 466,
     "metadata": {},
     "output_type": "execute_result"
    }
   ],
   "source": [
    "vec_v_c = s1[x_c] * sys.i\n",
    "a_b = vec_epsilon_1.cross(vec_ab) + vec_omega_1.cross(vec_v_b)\n",
    "a_c = x_c * sys.i\n",
    "vec_omega_2 = s1[omega_2] * sys.k\n",
    "s1 = solve_vec_equation([a_c - a_b - vec_epsilon_2.cross(vec_bc) - vec_omega_2.cross(vec_v_c)], [x_c, epsilon_2], sys)\n",
    "s1"
   ]
  },
  {
   "cell_type": "code",
   "execution_count": 467,
   "metadata": {},
   "outputs": [],
   "source": [
    "vec_epsilon_2 = s1[epsilon_2] * sys.k\n",
    "a_c = s1[x_c] * sys.i"
   ]
  },
  {
   "cell_type": "code",
   "execution_count": 468,
   "metadata": {},
   "outputs": [
    {
     "data": {
      "image/png": "[encoded data removed]",
      "text/latex": [
       "$$(-0.0975207579541448)\\mathbf{\\hat{i}_{oxyz}} + (0.0112550604154246)\\mathbf{\\hat{j}_{oxyz}}$$"
      ],
      "text/plain": [
       "(-0.0975207579541448)*oxyz.i + 0.0112550604154246*oxyz.j"
      ]
     },
     "execution_count": 468,
     "metadata": {},
     "output_type": "execute_result"
    }
   ],
   "source": [
    "vec_bs2"
   ]
  },
  {
   "cell_type": "code",
   "execution_count": 469,
   "metadata": {},
   "outputs": [
    {
     "name": "stdout",
     "output_type": "stream",
     "text": [
      "14.9\n"
     ]
    }
   ],
   "source": [
    "v_s2 = vec_v_b + vec_omega_2.cross(vec_bs2)\n",
    "a_s2 = a_b + vec_epsilon_2.cross(vec_bs2) + vec_omega_2.cross(v_s2)\n",
    "print(latex(a_s2.magnitude().n(3)))"
   ]
  },
  {
   "cell_type": "code",
   "execution_count": 472,
   "metadata": {},
   "outputs": [
    {
     "name": "stdout",
     "output_type": "stream",
     "text": [
      "% [x_a + x_b, 0, -x_b + x_c + 82.0416377938214, 0, -x_c + 1886930.50679377, y_a + y_b - 98.0, 0, -y_b + y_c - 93.9211670344462, 0, f_dop - y_c, -m_1 + 0.0409275054931641*x_b + 0.0709110260009766*y_b + 0.015833984375, -0.0112550604154246*x_b - 0.0296724450777394*x_c - 0.0975207579541448*y_b - 0.257100293337226*y_c - 3.08077466618509] This is S\n"
     ]
    }
   ],
   "source": [
    "vec_s2b = point_b.position_wrt(point_s2)\n",
    "vec_s2c = point_c.position_wrt(point_s2)\n",
    "\n",
    "x_a, y_a, x_b, y_b, x_c, y_c, m_1, f_dop = symbols('x_a, y_a, x_b, y_b, x_c, y_c, m_1, f_dop')\n",
    "f_a = x_a * sys.i + y_a * sys.j\n",
    "f_b = x_b * sys.i + y_b * sys.j\n",
    "f_c = x_c * sys.i + y_c * sys.j\n",
    "m_1_isk = (-m_1) * sys.k\n",
    "eq_1_f = (f_a + f_b - 10 * 9.8 * sys.j).subs({omega_1: omega_at_pos.n(3), epsilon_1: epsilon_isk.n(3), phi:(phi_1 / 360 * 2 * pi).n(3)})\n",
    "eq_1_m = (vec_ab.cross(f_b) + m_1_isk - j_o1_sht * vec_epsilon_1).subs({omega_1: omega_at_pos.n(3), epsilon_1: epsilon_isk.n(3), phi:(phi_1 / 360 * 2 * pi).n(3)})\n",
    "eq_2_f = (-f_b + f_c - g_2 * 9.8 * sys.j - g_2 * a_s2).subs({omega_1: omega_at_pos.n(3), epsilon_1: epsilon_isk.n(3), phi:(phi_1 / 360 * 2 * pi).n(3)})\n",
    "eq_2_m = (vec_s2c.cross(f_c) + vec_s2b.cross(-f_b) - j_s2 * vec_epsilon_2).subs({omega_1: omega_at_pos.n(3), epsilon_1: epsilon_isk.n(3), phi:(phi_1 / 360 * 2 * pi).n(3)})\n",
    "eq_3_f = (-f_c + f_max * sys.i - g_3 * a_c + f_dop * sys.j).subs({omega_1: omega_at_pos.n(3), epsilon_1: epsilon_isk.n(3), phi:(phi_1 / 360 * 2 * pi).n(3)})\n",
    "s1 = solve_vec_equation([eq_1_f, eq_1_m, eq_2_f, eq_2_m, eq_3_f], [x_a, y_a, x_b, y_b, x_c, y_c, m_1, f_dop], sys)"
   ]
  },
  {
   "cell_type": "code",
   "execution_count": 473,
   "metadata": {},
   "outputs": [
    {
     "data": {
      "image/png": "[encoded data removed]",
      "text/latex": [
       "$$\\left \\{ f_{dop} : -217759.784129202, \\quad m_{1} : 61782.5025149162, \\quad x_{a} : -1887012.54843156, \\quad x_{b} : 1887012.54843156, \\quad x_{c} : 1886930.50679377, \\quad y_{a} : 217951.705296237, \\quad y_{b} : -217853.705296237, \\quad y_{c} : -217759.784129202\\right \\}$$"
      ],
      "text/plain": [
       "{f_dop: -217759.784129202, m₁: 61782.5025149162, xₐ: -1887012.54843156, x_b: 1\n",
       "887012.54843156, x_c: 1886930.50679377, yₐ: 217951.705296237, y_b: -217853.705\n",
       "296237, y_c: -217759.784129202}"
      ]
     },
     "execution_count": 473,
     "metadata": {},
     "output_type": "execute_result"
    }
   ],
   "source": [
    "s1"
   ]
  },
  {
   "cell_type": "code",
   "execution_count": 445,
   "metadata": {},
   "outputs": [
    {
     "data": {
      "image/png": "[encoded data removed]",
      "text/latex": [
       "$$-60444.053338822756$$"
      ],
      "text/plain": [
       "-60444.053338822756"
      ]
     },
     "execution_count": 445,
     "metadata": {},
     "output_type": "execute_result"
    }
   ],
   "source": [
    "-61676.2008981969 + 1232.14755937414"
   ]
  },
  {
   "cell_type": "code",
   "execution_count": 121,
   "metadata": {},
   "outputs": [
    {
     "data": {
      "image/png": "[encoded data removed]",
      "text/latex": [
       "$$(- x_{b} + x_{c} - 3.54264845670104)\\mathbf{\\hat{i}_{oxyz}} + (- y_{b} + y_{c} - 56.4175646999608)\\mathbf{\\hat{j}_{oxyz}}$$"
      ],
      "text/plain": [
       "(-x_b + x_c - 3.54264845670104)*oxyz.i + (-y_b + y_c - 56.4175646999608)*oxyz.j"
      ]
     },
     "execution_count": 121,
     "metadata": {},
     "output_type": "execute_result"
    }
   ],
   "source": [
    "eq_2_f"
   ]
  },
  {
   "cell_type": "code",
   "execution_count": 122,
   "metadata": {},
   "outputs": [
    {
     "data": {
      "image/png": "[encoded data removed]",
      "text/latex": [
       "$$(- 0.0112550604154246 x_{b} - 0.0296724450777394 x_{c} - 0.0975207579541448 y_{b} - 0.257100293337226 y_{c} - 0.412972891917145)\\mathbf{\\hat{k}_{oxyz}}$$"
      ],
      "text/plain": [
       "(-0.0112550604154246*x_b - 0.0296724450777394*x_c - 0.0975207579541448*y_b - 0.257100293337226*y_c - 0.412972891917145)*oxyz.k"
      ]
     },
     "execution_count": 122,
     "metadata": {},
     "output_type": "execute_result"
    }
   ],
   "source": [
    "eq_2_m"
   ]
  },
  {
   "cell_type": "code",
   "execution_count": 131,
   "metadata": {},
   "outputs": [
    {
     "name": "stdout",
     "output_type": "stream",
     "text": [
      "% [-x_c + 1886705.53749858, -y_c] This is S\n"
     ]
    }
   ],
   "source": [
    "s1 = solve_vec_equation([eq_3_f], [x_c, y_c], sys)"
   ]
  },
  {
   "cell_type": "code",
   "execution_count": 132,
   "metadata": {},
   "outputs": [
    {
     "data": {
      "image/png": "[encoded data removed]",
      "text/latex": [
       "$$\\left \\{ x_{c} : 1886705.53749858, \\quad y_{c} : 0.0\\right \\}$$"
      ],
      "text/plain": [
       "{x_c: 1886705.53749858, y_c: 0.0}"
      ]
     },
     "execution_count": 132,
     "metadata": {},
     "output_type": "execute_result"
    }
   ],
   "source": [
    "s1"
   ]
  },
  {
   "cell_type": "code",
   "execution_count": 133,
   "metadata": {},
   "outputs": [
    {
     "name": "stdout",
     "output_type": "stream",
     "text": [
      "% [-x_b + 1886709.32311501, -y_b - 60.7614973825961] This is S\n"
     ]
    },
    {
     "data": {
      "image/png": "[encoded data removed]",
      "text/latex": [
       "$$\\left \\{ x_{b} : 1886709.32311501, \\quad y_{b} : -60.7614973825961\\right \\}$$"
      ],
      "text/plain": [
       "{x_b: 1886709.32311501, y_b: -60.7614973825961}"
      ]
     },
     "execution_count": 133,
     "metadata": {},
     "output_type": "execute_result"
    }
   ],
   "source": [
    "s2 = solve_vec_equation([eq_2_f.subs(s1)], [x_b, y_b], sys)\n",
    "s2"
   ]
  },
  {
   "cell_type": "code",
   "execution_count": 134,
   "metadata": {},
   "outputs": [
    {
     "data": {
      "image/png": "[encoded data removed]",
      "text/latex": [
       "$$(-77224.447131329)\\mathbf{\\hat{k}_{oxyz}}$$"
      ],
      "text/plain": [
       "(-77224.4471313290)*oxyz.k"
      ]
     },
     "execution_count": 134,
     "metadata": {},
     "output_type": "execute_result"
    }
   ],
   "source": [
    "(eq_2_m.subs(s1)).subs(s2)"
   ]
  },
  {
   "cell_type": "code",
   "execution_count": 107,
   "metadata": {},
   "outputs": [
    {
     "data": {
      "image/png": "[encoded data removed]",
      "text/latex": [
       "$$-0.0297$$"
      ],
      "text/plain": [
       "-0.0297"
      ]
     },
     "execution_count": 107,
     "metadata": {},
     "output_type": "execute_result"
    }
   ],
   "source": [
    "point_s2.express_coordinates(sys)[1].subs(phi, phi_1 / 360 * 2 * pi).n(3)"
   ]
  },
  {
   "cell_type": "code",
   "execution_count": 139,
   "metadata": {},
   "outputs": [],
   "source": [
    "omega_1 = omega_at_pos.n(3)\n",
    "epsilon_1 = epsilon_isk.n(3)\n",
    "l_1 = l_ab\n",
    "l_2 = l_bc\n"
   ]
  },
  {
   "cell_type": "code",
   "execution_count": 260,
   "metadata": {},
   "outputs": [
    {
     "data": {
      "image/png": "[encoded data removed]",
      "text/latex": [
       "$$0.9124899999999999$$"
      ],
      "text/plain": [
       "0.9124899999999999"
      ]
     },
     "execution_count": 260,
     "metadata": {},
     "output_type": "execute_result"
    }
   ],
   "source": [
    "182.498 / 200"
   ]
  },
  {
   "cell_type": "code",
   "execution_count": 264,
   "metadata": {},
   "outputs": [
    {
     "data": {
      "image/png": "[encoded data removed]",
      "text/latex": [
       "$$0.357$$"
      ],
      "text/plain": [
       "0.357"
      ]
     },
     "execution_count": 264,
     "metadata": {},
     "output_type": "execute_result"
    }
   ],
   "source": [
    "vec_bc.magnitude().n(3)"
   ]
  },
  {
   "cell_type": "code",
   "execution_count": 266,
   "metadata": {},
   "outputs": [
    {
     "name": "stdout",
     "output_type": "stream",
     "text": [
      "% [0.0409275054931641*omega_2 + x_c - 0.525902458280325, 0.354621051291371*omega_2 - 0.911178984493017] This is S\n"
     ]
    },
    {
     "data": {
      "image/png": "[encoded data removed]",
      "text/latex": [
       "$$\\left \\{ \\omega_{2} : 2.56944414657537, \\quad x_{c} : 0.420741518856983\\right \\}$$"
      ],
      "text/plain": [
       "{ω₂: 2.56944414657537, x_c: 0.420741518856983}"
      ]
     },
     "execution_count": 266,
     "metadata": {},
     "output_type": "execute_result"
    }
   ],
   "source": [
    "vec_v_c = x_c * sys.i\n",
    "vec_omega_2 = omega_2 * sys.k\n",
    "vec_v_cb = vec_omega_2.cross(vec_bc)\n",
    "solve_vec_equation([vec_v_c - vec_v_b - vec_v_cb], [x_c, omega_2], sys)"
   ]
  },
  {
   "cell_type": "code",
   "execution_count": 393,
   "metadata": {},
   "outputs": [],
   "source": [
    "omega_1 = omega_at_pos.n(3)\n",
    "epsilon_1 = epsilon_isk.n(3)"
   ]
  },
  {
   "cell_type": "code",
   "execution_count": 398,
   "metadata": {},
   "outputs": [
    {
     "data": {
      "image/png": "[encoded data removed]",
      "text/latex": [
       "$$270.3921875$$"
      ],
      "text/plain": [
       "270.392187500000"
      ]
     },
     "execution_count": 398,
     "metadata": {},
     "output_type": "execute_result"
    }
   ],
   "source": [
    "omega_1 ** 2 * l_ab * 20"
   ]
  },
  {
   "cell_type": "code",
   "execution_count": 401,
   "metadata": {},
   "outputs": [
    {
     "data": {
      "image/png": "[encoded data removed]",
      "text/latex": [
       "$$21.1$$"
      ],
      "text/plain": [
       "21.1"
      ]
     },
     "execution_count": 401,
     "metadata": {},
     "output_type": "execute_result"
    }
   ],
   "source": [
    "vec_epsilon_2.cross(vec_bc).magnitude().n(3) * 20"
   ]
  },
  {
   "cell_type": "code",
   "execution_count": 457,
   "metadata": {},
   "outputs": [
    {
     "data": {
      "image/png": "[encoded data removed]",
      "text/latex": [
       "$$\\left ( 39.8798051272895, \\quad 0.81024975516423, \\quad 2.81940987160281\\right )$$"
      ],
      "text/plain": [
       "(39.8798051272895, 0.81024975516423, 2.81940987160281)"
      ]
     },
     "execution_count": 457,
     "metadata": {},
     "output_type": "execute_result"
    }
   ],
   "source": [
    "a_s2.magnitude() * 20, a_b.magnitude() * 20, a_c.magnitude() * 20"
   ]
  }
 ],
 "metadata": {
  "kernelspec": {
   "display_name": "Python 3",
   "language": "python",
   "name": "python3"
  },
  "language_info": {
   "codemirror_mode": {
    "name": "ipython",
    "version": 3
   },
   "file_extension": ".py",
   "mimetype": "text/x-python",
   "name": "python",
   "nbconvert_exporter": "python",
   "pygments_lexer": "ipython3",
   "version": "3.6.5"
  }
 },
 "nbformat": 4,
 "nbformat_minor": 2
}
