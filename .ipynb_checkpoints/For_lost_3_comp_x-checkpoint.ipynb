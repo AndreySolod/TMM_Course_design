{
 "cells": [
  {
   "cell_type": "code",
   "execution_count": null,
   "metadata": {},
   "outputs": [],
   "source": [
    "from sympy import atan, cos, sin, tan, pi"
   ]
  },
  {
   "cell_type": "code",
   "execution_count": null,
   "metadata": {},
   "outputs": [],
   "source": [
    "x1, x2 = int(input()), 0.5\n",
    "z1 = 10\n",
    "z2 = 19\n",
    "m = 4\n",
    "beta = 25 / 360 * 2 * pi.n(8)\n",
    "alpha = 20360 * 2 * pi.n(8)\n",
    "h_a = 1\n",
    "c = 0.25\n",
    "a_w0 = 0"
   ]
  },
  {
   "cell_type": "code",
   "execution_count": null,
   "metadata": {},
   "outputs": [],
   "source": [
    "r_w1 = m * z1 / 2\n",
    "r_w2 = m * z2 / 2\n",
    "a_w = r_w1 + r_w2\n",
    "alpha_t = atan(tan(alpha) / cos(beta)).n(5)\n",
    "m_t = m * cos(beta).n(5)\n",
    "h_at = h_a * cos(beta).n(5)\n",
    "c_t = c * cos(beta).n(5)\n",
    "rb1, rb2 = m_t * z1 * cos(alpha_t).n(5) / 2, m_t * z2 * cos(alpha_t).n(5) / 2\n",
    "z_tmin = 2 * h_at / sin(alpha_t).n(5) ** 2\n",
    "x_tmin1, x_tmin2 = h_at * (z_tmin - z1) / z_tmin, h_at * (z_tmin - z2) / z_tmin\n"
   ]
  }
 ],
 "metadata": {
  "kernelspec": {
   "display_name": "Python 3",
   "language": "python",
   "name": "python3"
  },
  "language_info": {
   "codemirror_mode": {
    "name": "ipython",
    "version": 3
   },
   "file_extension": ".py",
   "mimetype": "text/x-python",
   "name": "python",
   "nbconvert_exporter": "python",
   "pygments_lexer": "ipython3",
   "version": "3.6.5"
  }
 },
 "nbformat": 4,
 "nbformat_minor": 2
}
