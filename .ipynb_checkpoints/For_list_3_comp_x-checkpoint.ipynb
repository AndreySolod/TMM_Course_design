{
 "cells": [
  {
   "cell_type": "code",
   "execution_count": 2,
   "metadata": {},
   "outputs": [],
   "source": [
    "from math import pi, sin"
   ]
  },
  {
   "cell_type": "code",
   "execution_count": 9,
   "metadata": {},
   "outputs": [
    {
     "name": "stdout",
     "output_type": "stream",
     "text": [
      "18\n",
      "21\n",
      "24\n",
      "27\n",
      "30\n",
      "33\n",
      "36\n",
      "39\n",
      "42\n",
      "45\n",
      "48\n",
      "51\n",
      "54\n",
      "57\n",
      "60\n",
      "63\n",
      "66\n",
      "69\n",
      "72\n",
      "75\n",
      "78\n",
      "81\n",
      "84\n",
      "87\n",
      "90\n",
      "93\n",
      "96\n",
      "99\n",
      "102\n",
      "105\n",
      "108\n",
      "111\n",
      "114\n",
      "117\n",
      "120\n",
      "123\n",
      "126\n",
      "129\n",
      "132\n",
      "135\n",
      "138\n",
      "141\n",
      "144\n",
      "147\n",
      "150\n",
      "153\n",
      "156\n",
      "159\n",
      "162\n",
      "165\n",
      "168\n",
      "171\n",
      "174\n",
      "177\n",
      "180\n",
      "183\n",
      "186\n",
      "189\n",
      "192\n",
      "195\n",
      "198\n"
     ]
    }
   ],
   "source": [
    "u = 9.4\n",
    "k = 3\n",
    "alpha = []\n",
    "for z1 in range(17, 200, 1):\n",
    "    if not (-0.0001 < round(z1 * u / k * 10) - z1 * u / k * 10 < 0.0001): #or not (-0.0001 < round(z1 * u / k * 40) - z1 * u / k * 40 < 0.0001):\n",
    "        continue\n",
    "    for z2 in range(17, 200, 1):\n",
    "        for z3 in range(17, 200, 1):\n",
    "            z4 = z1 + z2 + z3\n",
    "            k1 = 1 + (z2 * z4) / (z1 * z3)\n",
    "            t1, t2 = (z1 + z2 == z4 - z3), (u - 0.01 < k1 < u + 0.01)\n",
    "            t3 = (sin(pi / k) > (max(z2, z3) + 2) / (z1 + z2))\n",
    "            if t1 and t2 and t3:\n",
    "                if (k1 == u):\n",
    "                    alpha.append((z1, z2, z3, z4))\n",
    "\n",
    "print(min(alpha, key=lambda x:max(x)))"
   ]
  },
  {
   "cell_type": "code",
   "execution_count": 10,
   "metadata": {},
   "outputs": [
    {
     "data": {
      "text/plain": [
       "(18, 54, 40, 112)"
      ]
     },
     "execution_count": 10,
     "metadata": {},
     "output_type": "execute_result"
    }
   ],
   "source": [
    "min(alpha, key=lambda x:max(x))"
   ]
  }
 ],
 "metadata": {
  "kernelspec": {
   "display_name": "Python 3",
   "language": "python",
   "name": "python3"
  },
  "language_info": {
   "codemirror_mode": {
    "name": "ipython",
    "version": 3
   },
   "file_extension": ".py",
   "mimetype": "text/x-python",
   "name": "python",
   "nbconvert_exporter": "python",
   "pygments_lexer": "ipython3",
   "version": "3.6.5"
  }
 },
 "nbformat": 4,
 "nbformat_minor": 2
}
