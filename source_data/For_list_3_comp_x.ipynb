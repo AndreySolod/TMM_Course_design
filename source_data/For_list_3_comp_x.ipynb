{
 "cells": [
  {
   "cell_type": "code",
   "execution_count": 1,
   "metadata": {},
   "outputs": [],
   "source": [
    "from math import pi, sin"
   ]
  },
  {
   "cell_type": "code",
   "execution_count": 2,
   "metadata": {},
   "outputs": [
    {
     "name": "stdout",
     "output_type": "stream",
     "text": [
      "18\n",
      "18 46 28 92 9.396825396825397\n",
      "18 54 40 112 9.4\n"
     ]
    }
   ],
   "source": [
    "u = 9.4\n",
    "k = 3\n",
    "n = False\n",
    "for z1 in range(17, 200, 1):\n",
    "    if not (-0.0001 < round(z1 * u / k * 10) - z1 * u / k * 10 < 0.0001): #or not (-0.0001 < round(z1 * u / k * 40) - z1 * u / k * 40 < 0.0001):\n",
    "        continue\n",
    "    else:\n",
    "        print(z1)\n",
    "    for z2 in range(17, 200, 1):\n",
    "        for z3 in range(17, 200, 1):\n",
    "            for z4 in range(85, 200, 1):\n",
    "                k1 = 1 + (z2 * z4) / (z1 * z3)\n",
    "                t1, t2 = (z1 + z2 == z4 - z3), (u - 0.01 < k1 < u + 0.01)\n",
    "                t3 = (sin(pi / k) > (max(z2, z3) + 2) / (z1 + z2))\n",
    "                if t1 and t2 and t3:\n",
    "                    if (k1 == 9.4):\n",
    "                        n = True\n",
    "                        print(z1, z2, z3, z4, k1)\n",
    "                        break\n",
    "                    print(z1, z2, z3, z4, k1)\n",
    "            if n: break\n",
    "        if n: break\n",
    "    if n: break"
   ]
  }
 ],
 "metadata": {
  "kernelspec": {
   "display_name": "Python 3",
   "language": "python",
   "name": "python3"
  },
  "language_info": {
   "codemirror_mode": {
    "name": "ipython",
    "version": 3
   },
   "file_extension": ".py",
   "mimetype": "text/x-python",
   "name": "python",
   "nbconvert_exporter": "python",
   "pygments_lexer": "ipython3",
   "version": "3.6.5"
  }
 },
 "nbformat": 4,
 "nbformat_minor": 2
}
